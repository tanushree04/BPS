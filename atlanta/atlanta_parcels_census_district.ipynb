{
 "cells": [
  {
   "cell_type": "code",
   "execution_count": 1,
   "metadata": {},
   "outputs": [],
   "source": [
    "import pandas as pd"
   ]
  },
  {
   "cell_type": "code",
   "execution_count": 2,
   "metadata": {},
   "outputs": [
    {
     "name": "stdout",
     "output_type": "stream",
     "text": [
      "                           Address            City State         Zip\n",
      "0                    Springwood Dr      Carrollton    GA       30116\n",
      "1                5160 NE Alcovy Rd       Covington    GA       30014\n",
      "2                   341 Conley Cir         Atlanta    GA       30354\n",
      "3               6545 Haddington Ln         Suwanee    GA  30024-5308\n",
      "4                2045 Highway 34 E          Newnan    GA  30265-1327\n",
      "...                            ...             ...   ...         ...\n",
      "62838             6305 Crescent Dr        Norcross    GA       30071\n",
      "62839                  5500 S Expy     Forest Park    GA  30297-2512\n",
      "62840            445 Hurricane Trl          Dacula    GA       30019\n",
      "62841  2100-2200 W Park Place Blvd  Stone Mountain    GA       30087\n",
      "62842                 86 S Cobb Dr        Marietta    GA       30060\n",
      "\n",
      "[62843 rows x 4 columns]\n"
     ]
    }
   ],
   "source": [
    "# Write out the parcel IDs and addresses to upload for geocoding using:\n",
    "# https://geocoding.geo.census.gov/geocoder/geographies/addressbatch?form\n",
    "# Choose \"Census2010_Current\" as these tract IDs match the CEJST data\n",
    "address_df = pd.read_excel(r\"C:/gh/BPS/atlanta/2024-06-17_23-58-23--1PropertyAndTenantDataCombinedAt.xlsx\")\n",
    "address_df_filtered = address_df[['Address','City', 'State', 'Zip']]\n",
    "print(address_df_filtered)\n",
    "#address_df_filtered.to_csv(r\"C:/gh/BPS/atlanta/atlanta_addresses_for_geocoding.csv\",header=False)"
   ]
  },
  {
   "cell_type": "code",
   "execution_count": 4,
   "metadata": {},
   "outputs": [
    {
     "name": "stdout",
     "output_type": "stream",
     "text": [
      "Number of rows after removing blank addresses: 62841\n"
     ]
    }
   ],
   "source": [
    "address_df_filtered = address_df_filtered.dropna(subset=['Address'])\n",
    "# Print the number of rows in the DataFrame after cleaning\n",
    "print(\"Number of rows after removing blank addresses:\", len(address_df_filtered))"
   ]
  },
  {
   "cell_type": "code",
   "execution_count": 5,
   "metadata": {},
   "outputs": [
    {
     "name": "stdout",
     "output_type": "stream",
     "text": [
      "0\n",
      "9999\n",
      "19998\n",
      "29997\n",
      "39996\n",
      "49995\n",
      "59994\n"
     ]
    }
   ],
   "source": [
    "# Split DF into max 9,999 rows\n",
    "df_dict = {n: address_df_filtered.iloc[n:n+9999, :] \n",
    "    for n in range(0, len(address_df_filtered), 9999)}\n",
    "\n",
    "# export dataframes for the census geocoder\n",
    "for key in df_dict.keys():\n",
    "    print(key)\n",
    "    df_dict[key].to_csv(f'PropertyDataCombined_{key}.csv', index_label='ID')\n"
   ]
  },
  {
   "cell_type": "code",
   "execution_count": 6,
   "metadata": {},
   "outputs": [
    {
     "name": "stdout",
     "output_type": "stream",
     "text": [
      "0\n",
      "9999\n",
      "19998\n",
      "29997\n",
      "39996\n",
      "49995\n",
      "59994\n",
      "% of \"No Match\" entries 10.767247963340122\n",
      "Number of \"No Match\" entries 6767\n",
      "Total entries 62848\n",
      "Number of \"Matches\" 55022\n"
     ]
    }
   ],
   "source": [
    "\n",
    "### read new csvs with tracts from the census geocoder\n",
    "dfs = []\n",
    "for key in df_dict.keys():\n",
    "    print(key)\n",
    "    df_geolocater = pd.read_csv(rf'C:\\gh\\BPS\\atlanta\\geocoded_addresses\\GeocodeResults_{key}.csv',\n",
    "        names=[\n",
    "            'Serial Number',\n",
    "            'Input Address',\n",
    "            'TIGER Address Range Match Indicator',\n",
    "            'TIGER Match Type',\n",
    "            'TIGER Output Address',\n",
    "            'LongitudeAndLatitude',\n",
    "            'Tigerline ID',\n",
    "            'Tigerline ID Side',\n",
    "            'State',\n",
    "            'County',\n",
    "            'Tract',\n",
    "            'Block'],\n",
    "            dtype=str, index_col=False)\n",
    "    \n",
    "    # Count the number of rows where 'TIGER Match Type' is 'No Match'\n",
    "    no_match_count = df_geolocater[df_geolocater['TIGER Address Range Match Indicator'] == 'No_Match'].shape[0] \n",
    "    dfs.append(df_geolocater)\n",
    "\n",
    "df_tracts = pd.concat(dfs)\n",
    "\n",
    "# Count the number of rows where 'TIGER Match Type' is 'No Match'\n",
    "no_match_count_total = df_tracts[df_tracts['TIGER Address Range Match Indicator'] == 'No_Match'].shape[0]\n",
    "match_count_total = df_tracts[df_tracts['TIGER Address Range Match Indicator'] == 'Match'].shape[0]\n",
    "\n",
    "if not no_match_count_total == 0:\n",
    "    no_match_percent = (no_match_count_total/ df_tracts.shape[0])*100\n",
    "    print(f'% of \"No Match\" entries {no_match_percent}')\n",
    "\n",
    "print(f'Number of \"No Match\" entries {no_match_count_total}')\n",
    "print(f'Total entries {df_tracts.shape[0]}')\n",
    "print(f'Number of \"Matches\" {match_count_total}')\n"
   ]
  },
  {
   "cell_type": "code",
   "execution_count": 7,
   "metadata": {},
   "outputs": [],
   "source": [
    "# Combine the State, County, and Tract into a single field\n",
    "def census_tract_id(row):\n",
    "\n",
    "    state = row['State']\n",
    "    county = row['County']\n",
    "    tract = row['Tract']\n",
    "    gisjoin = f'{state}{county}{tract}'\n",
    "       \n",
    "\n",
    "    return gisjoin"
   ]
  },
  {
   "cell_type": "code",
   "execution_count": 8,
   "metadata": {},
   "outputs": [
    {
     "data": {
      "text/plain": [
       "Index(['Serial Number', 'Input Address', 'TIGER Address Range Match Indicator',\n",
       "       'TIGER Match Type', 'TIGER Output Address', 'LongitudeAndLatitude',\n",
       "       'Tigerline ID', 'Tigerline ID Side', 'State', 'County', 'Tract',\n",
       "       'Block', 'census_tract_id'],\n",
       "      dtype='object')"
      ]
     },
     "execution_count": 8,
     "metadata": {},
     "output_type": "execute_result"
    }
   ],
   "source": [
    "# clean up addresses and create census_tract_id column\n",
    "#df_tracts.replace({',': ''}, regex=True, inplace=True) # remove extra comma in address\n",
    "#df_tracts['full_address'] = df_tracts['Input Address'].str.lower() # convert to lowercase\n",
    "#df_tracts = normalize_common_address_comps(df_tracts, 'full_address')\n",
    "#df_tracts['State'] = df_tracts['State'].str.lstrip('0') # strip the 0 from the front of State values\n",
    "df_tracts['census_tract_id'] = df_tracts.apply(lambda row: census_tract_id(row), axis=1) # create census id column\n",
    "df_tracts.columns"
   ]
  },
  {
   "cell_type": "code",
   "execution_count": 10,
   "metadata": {},
   "outputs": [
    {
     "data": {
      "text/plain": [
       "55022"
      ]
     },
     "execution_count": 10,
     "metadata": {},
     "output_type": "execute_result"
    }
   ],
   "source": [
    "# filter to matched addresses\n",
    "df_tracts_match = df_tracts.loc[df_tracts['TIGER Address Range Match Indicator'] == 'Match']\n",
    "df_tracts_match.shape[0]\n"
   ]
  },
  {
   "cell_type": "code",
   "execution_count": 11,
   "metadata": {},
   "outputs": [
    {
     "name": "stdout",
     "output_type": "stream",
     "text": [
      "Column 'Identified as disadvantaged' dropped.\n",
      "int64\n",
      "int64\n",
      "       Serial Number                      Address  \\\n",
      "0                  0                Springwood Dr   \n",
      "1                  1            5160 NE Alcovy Rd   \n",
      "2                  2               341 Conley Cir   \n",
      "3                  3           6545 Haddington Ln   \n",
      "4                  4            2045 Highway 34 E   \n",
      "...              ...                          ...   \n",
      "62838          62838             6305 Crescent Dr   \n",
      "62839          62839                  5500 S Expy   \n",
      "62840          62840            445 Hurricane Trl   \n",
      "62841          62841  2100-2200 W Park Place Blvd   \n",
      "62842          62842                 86 S Cobb Dr   \n",
      "\n",
      "                           Property Name  PropertyType  Star Rating  \\\n",
      "0                                    NaN  Multi-Family          2.0   \n",
      "1                                    NaN        Office          2.0   \n",
      "2                                    NaN    Industrial          1.0   \n",
      "3                                    NaN        Retail          3.0   \n",
      "4                                    NaN        Retail          3.0   \n",
      "...                                  ...           ...          ...   \n",
      "62838                                NaN    Industrial          4.0   \n",
      "62839       JCPenney Distribution Center    Industrial          3.0   \n",
      "62840  Gwinnett Progress Center - Publix    Industrial          4.0   \n",
      "62841          Amazon Fulfillment Center    Industrial          5.0   \n",
      "62842                                NaN    Industrial          3.0   \n",
      "\n",
      "      Energy Star LEED Certified Building Class Building Status  Rent/SF/Yr  \\\n",
      "0             NaN            NaN              C        Existing      80.000   \n",
      "1             NaN            NaN              C        Existing      16.255   \n",
      "2             NaN            NaN            NaN        Existing       8.370   \n",
      "3             NaN            NaN            NaN        Existing      22.160   \n",
      "4             NaN            NaN              B        Existing      21.460   \n",
      "...           ...            ...            ...             ...         ...   \n",
      "62838         NaN            NaN              B        Existing       8.645   \n",
      "62839         NaN            NaN              C        Existing       6.710   \n",
      "62840         NaN            NaN              B        Existing       6.420   \n",
      "62841         NaN            NaN              A        Existing       5.080   \n",
      "62842         NaN            NaN              B        Existing       8.330   \n",
      "\n",
      "       ... Location Phone152 Occupancy Type152 Property Type152 Rent/SF/Yr152  \\\n",
      "0      ...               NaN               NaN              NaN           NaN   \n",
      "1      ...               NaN               NaN              NaN           NaN   \n",
      "2      ...               NaN               NaN              NaN           NaN   \n",
      "3      ...               NaN               NaN              NaN           NaN   \n",
      "4      ...               NaN               NaN              NaN           NaN   \n",
      "...    ...               ...               ...              ...           ...   \n",
      "62838  ...               NaN               NaN              NaN           NaN   \n",
      "62839  ...               NaN               NaN              NaN           NaN   \n",
      "62840  ...               NaN               NaN              NaN           NaN   \n",
      "62841  ...               NaN               NaN              NaN           NaN   \n",
      "62842  ...               NaN               NaN              NaN           NaN   \n",
      "\n",
      "      SF Occupied152 Secondary Type152  Star Rating152  Store Type152  \\\n",
      "0                NaN               NaN             NaN            NaN   \n",
      "1                NaN               NaN             NaN            NaN   \n",
      "2                NaN               NaN             NaN            NaN   \n",
      "3                NaN               NaN             NaN            NaN   \n",
      "4                NaN               NaN             NaN            NaN   \n",
      "...              ...               ...             ...            ...   \n",
      "62838            NaN               NaN             NaN            NaN   \n",
      "62839            NaN               NaN             NaN            NaN   \n",
      "62840            NaN               NaN             NaN            NaN   \n",
      "62841            NaN               NaN             NaN            NaN   \n",
      "62842            NaN               NaN             NaN            NaN   \n",
      "\n",
      "       Tenant Name152  Website152  \n",
      "0                 NaN         NaN  \n",
      "1                 NaN         NaN  \n",
      "2                 NaN         NaN  \n",
      "3                 NaN         NaN  \n",
      "4                 NaN         NaN  \n",
      "...               ...         ...  \n",
      "62838             NaN         NaN  \n",
      "62839             NaN         NaN  \n",
      "62840             NaN         NaN  \n",
      "62841             NaN         NaN  \n",
      "62842             NaN         NaN  \n",
      "\n",
      "[62843 rows x 2204 columns]\n"
     ]
    },
    {
     "name": "stderr",
     "output_type": "stream",
     "text": [
      "C:\\Users\\tcharan\\AppData\\Local\\Temp\\1\\ipykernel_31572\\373648345.py:11: SettingWithCopyWarning: \n",
      "A value is trying to be set on a copy of a slice from a DataFrame.\n",
      "Try using .loc[row_indexer,col_indexer] = value instead\n",
      "\n",
      "See the caveats in the documentation: https://pandas.pydata.org/pandas-docs/stable/user_guide/indexing.html#returning-a-view-versus-a-copy\n",
      "  df_tracts_match['Serial Number'] = df_tracts_match['Serial Number'].astype(int)\n"
     ]
    }
   ],
   "source": [
    "# Rename 'Unnamed: 0' to 'Serial Number' in df_tracts_match_simple\n",
    "address_df.rename(columns={'Unnamed: 0': 'Serial Number'}, inplace=True)\n",
    "\n",
    "# Check if 'Identified as disadvantaged' column exists before dropping it\n",
    "if 'Identified as disadvantaged' in address_df.columns:\n",
    "    address_df.drop(columns=['Identified as disadvantaged'], inplace=True)\n",
    "    print(\"Column 'Identified as disadvantaged' dropped.\")\n",
    "else:\n",
    "    print(\"Column 'Identified as disadvantaged' does not exist.\")\n",
    "\n",
    "df_tracts_match['Serial Number'] = df_tracts_match['Serial Number'].astype(int)\n",
    "# Check data types\n",
    "print(address_df['Serial Number'].dtype)\n",
    "print(df_tracts_match['Serial Number'].dtype)\n",
    "\n",
    "# Check the updated DataFrame\n",
    "print(address_df)"
   ]
  },
  {
   "cell_type": "code",
   "execution_count": 12,
   "metadata": {},
   "outputs": [],
   "source": [
    "# Merge DataFrames on 'Serial Number'\n",
    "df_md_costar_tracts = pd.merge(address_df, df_tracts_match, on='Serial Number', how='inner')"
   ]
  },
  {
   "cell_type": "code",
   "execution_count": 13,
   "metadata": {},
   "outputs": [],
   "source": [
    "# Load the EEEJ\n",
    "cejst = pd.read_csv(r\"C:\\gh\\BPS\\atlanta\\1.0-communities.csv\", low_memory=False, dtype=object)\n"
   ]
  },
  {
   "cell_type": "code",
   "execution_count": 14,
   "metadata": {},
   "outputs": [
    {
     "name": "stdout",
     "output_type": "stream",
     "text": [
      "Before joining CEJST on geographies, Nonres had 55022 entries\n",
      "After joining CEJST on census geographies, Nonres had 55022 entries\n"
     ]
    }
   ],
   "source": [
    "# Merge CEJST data on census tract ID\n",
    "bef = len(df_md_costar_tracts)\n",
    "print(f'Before joining CEJST on geographies, Nonres had {bef} entries')\n",
    "\n",
    "df_md_costar_tracts_merged = pd.merge(df_md_costar_tracts, cejst, left_on='census_tract_id', right_on='Census tract 2010 ID', how='inner')\n",
    "\n",
    "aft = len(df_md_costar_tracts_merged)\n",
    "print(f'After joining CEJST on census geographies, Nonres had {aft} entries')\n",
    "nTomatch = bef - aft\n",
    "if nomatch > 0:\n",
    "    print(f'This means there were {nomatch} census geographies not matched. If this number is high, make sure you choose \"Census2010_current on the geocoding site.')\n"
   ]
  },
  {
   "cell_type": "code",
   "execution_count": 15,
   "metadata": {},
   "outputs": [],
   "source": [
    "df_md_costar_tracts_merged[df_md_costar_tracts_merged['Census tract 2010 ID'].isna()]['census_tract_id'].value_counts()\n",
    "df_md_costar_tracts_merged.to_csv(r\"C:\\gh\\BPS\\atlanta\\DisadvantagedStatusOfBuildingsAtlanta.csv\")"
   ]
  },
  {
   "cell_type": "code",
   "execution_count": 22,
   "metadata": {},
   "outputs": [
    {
     "name": "stdout",
     "output_type": "stream",
     "text": [
      "(55022, 2349)\n"
     ]
    },
    {
     "data": {
      "text/html": [
       "<div>\n",
       "<style scoped>\n",
       "    .dataframe tbody tr th:only-of-type {\n",
       "        vertical-align: middle;\n",
       "    }\n",
       "\n",
       "    .dataframe tbody tr th {\n",
       "        vertical-align: top;\n",
       "    }\n",
       "\n",
       "    .dataframe thead th {\n",
       "        text-align: right;\n",
       "    }\n",
       "</style>\n",
       "<table border=\"1\" class=\"dataframe\">\n",
       "  <thead>\n",
       "    <tr style=\"text-align: right;\">\n",
       "      <th></th>\n",
       "      <th>Serial Number</th>\n",
       "      <th>Address</th>\n",
       "      <th>Property Name</th>\n",
       "      <th>PropertyType</th>\n",
       "      <th>Star Rating</th>\n",
       "      <th>Energy Star</th>\n",
       "      <th>LEED Certified</th>\n",
       "      <th>Building Class</th>\n",
       "      <th>Building Status</th>\n",
       "      <th>Rent/SF/Yr</th>\n",
       "      <th>...</th>\n",
       "      <th>Percent individuals age 25 or over with less than high school degree</th>\n",
       "      <th>Percent of residents who are not currently enrolled in higher ed</th>\n",
       "      <th>Unemployment (percent) in 2009 (island areas) and 2010 (states and PR)</th>\n",
       "      <th>Percentage households below 100% of federal poverty line in 2009 (island areas) and 2010 (states and PR)</th>\n",
       "      <th>Greater than or equal to the 90th percentile for unemployment and has low HS education in 2009 (island areas)?</th>\n",
       "      <th>Greater than or equal to the 90th percentile for households at or below 100% federal poverty level and has low HS education in 2009 (island areas)?</th>\n",
       "      <th>Greater than or equal to the 90th percentile for low median household income as a percent of area median income and has low HS education in 2009 (island areas)?</th>\n",
       "      <th>Number of Tribal areas within Census tract for Alaska</th>\n",
       "      <th>Names of Tribal areas within Census tract</th>\n",
       "      <th>Percent of the Census tract that is within Tribal areas</th>\n",
       "    </tr>\n",
       "  </thead>\n",
       "  <tbody>\n",
       "  </tbody>\n",
       "</table>\n",
       "<p>0 rows × 2349 columns</p>\n",
       "</div>"
      ],
      "text/plain": [
       "Empty DataFrame\n",
       "Columns: [Serial Number, Address, Property Name, PropertyType, Star Rating, Energy Star, LEED Certified, Building Class, Building Status, Rent/SF/Yr, Secondary Type, Leasing Company Name, Leasing Company Contact, City, State_x, Zip, Last Sale Price, Year Built, Year Renovated, Typical Floor Size, Property ID, $Price/Unit, Affordable Type, Amenities, Anchor Tenants, Average Weighted Rent, Building Operating Expenses, Building Park, Building Tax Expenses, Cap Rate, Ceiling Ht, Closest Transit Stop, Closest Transit Stop Dist (mi), Closest Transit Stop Walk Time (min), Construction Material, Direct Services, For Sale Price/Room, Fund Name, Gas, Heating, Latitude, Longitude, Number Of Elevators, Number Of Loading Docks, Number Of Stories, Operational Status, Ops Expense, Ops Expense Per SF, Owner Address, Owner City State Zip, Owner Contact, Owner Phone, Parent Company, Power, Rent Type, Rooms, Tax Year, Taxes Per SF, Taxes Total, Vacancy %, Zoning, Calculated Lease Term, % of Building0, Address0, Employees0, Industry0, Location Phone0, Occupancy Type0, Property Type0, Rent/SF/Yr0, SF Occupied0, Secondary Type0, Star Rating0, Store Type0, Tenant Name0, Website0, % of Building1, Address1, Employees1, Industry1, Location Phone1, Occupancy Type1, Property Type1, Rent/SF/Yr1, SF Occupied1, Secondary Type1, Star Rating1, Store Type1, Tenant Name1, Website1, % of Building2, Address2, Employees2, Industry2, Location Phone2, Occupancy Type2, Property Type2, Rent/SF/Yr2, SF Occupied2, Secondary Type2, ...]\n",
       "Index: []\n",
       "\n",
       "[0 rows x 2349 columns]"
      ]
     },
     "execution_count": 22,
     "metadata": {},
     "output_type": "execute_result"
    }
   ],
   "source": [
    "print(df_md_costar_tracts_merged.shape)   # Get the shape (number of rows and columns)\n"
   ]
  },
  {
   "cell_type": "code",
   "execution_count": null,
   "metadata": {},
   "outputs": [],
   "source": []
  }
 ],
 "metadata": {
  "interpreter": {
   "hash": "a23527e6104694a83f14c6c8bca9b94c3b423d2b6ecf25ebd988d67879adb7f8"
  },
  "kernelspec": {
   "display_name": "Python 3 (ipykernel)",
   "language": "python",
   "name": "python3"
  },
  "language_info": {
   "codemirror_mode": {
    "name": "ipython",
    "version": 3
   },
   "file_extension": ".py",
   "mimetype": "text/x-python",
   "name": "python",
   "nbconvert_exporter": "python",
   "pygments_lexer": "ipython3",
   "version": "3.10.0"
  }
 },
 "nbformat": 4,
 "nbformat_minor": 4
}
