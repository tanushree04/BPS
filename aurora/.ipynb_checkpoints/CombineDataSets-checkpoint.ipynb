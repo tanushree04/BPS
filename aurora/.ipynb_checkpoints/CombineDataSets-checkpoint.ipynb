{
 "cells": [
  {
   "cell_type": "code",
   "execution_count": 84,
   "metadata": {},
   "outputs": [],
   "source": [
    "#This script takes a group of excel or csv files and combines them into one csv files. One set of data is the primary data and the second data set is then mapped to the first data set based on the first columns values.\n",
    "\n",
    "\n",
    "import re\n",
    "import os\n",
    "import glob\n",
    "import pandas as pd\n",
    "import numpy as np"
   ]
  },
  {
   "cell_type": "markdown",
   "metadata": {},
   "source": [
    "Define folder path for property data and combine the property DataSets"
   ]
  },
  {
   "cell_type": "code",
   "execution_count": 85,
   "metadata": {},
   "outputs": [],
   "source": [
    "#path to CoStar Property Data Files\n",
    "cs_property_data_dir = r\"..\\DataSets\\Raw CoStar Data\\Raw Property Data\"\n",
    "\n",
    "#get all the files in property and tenant data files\n",
    "property_data_xlsx_files = glob.glob(os.path.join(cs_property_data_dir, '*.xlsx'))\n",
    "\n",
    "#loop through the files and read them in with pandas\n",
    "property_dataframes = [] #a list to hold all the indiviudal pandas DataFrames\n",
    "for xlsxfile in property_data_xlsx_files:\n",
    "    propertydf = pd.read_excel(xlsxfile)\n",
    "    property_dataframes.append(propertydf)\n",
    "\n",
    "#concatenate all together\n",
    "property_combined_df = pd.concat(property_dataframes, ignore_index=True)"
   ]
  },
  {
   "cell_type": "markdown",
   "metadata": {},
   "source": [
    "Transform column headers and drop property data columns\n"
   ]
  },
  {
   "cell_type": "code",
   "execution_count": 86,
   "metadata": {},
   "outputs": [
    {
     "data": {
      "text/plain": [
       "Index(['Address', 'Property Name', 'PropertyType', 'Star Rating',\n",
       "       'Energy Star', 'LEED Certified', 'Building Class', 'Building Status',\n",
       "       'Rent/SF/Yr', 'Secondary Type', 'Leasing Company Name',\n",
       "       'Leasing Company Contact', 'Last Sale Price', 'Year Built',\n",
       "       'Year Renovated', 'Typical Floor Size', 'Ceiling Ht', 'PropertyID',\n",
       "       '$Price/Unit', 'Affordable Type', 'Amenities', 'Anchor Tenants',\n",
       "       'Average Weighted Rent', 'Building Operating Expenses', 'Building Park',\n",
       "       'Building Tax Expenses', 'Cap Rate', 'Closest Transit Stop',\n",
       "       'Closest Transit Stop Dist (mi)',\n",
       "       'Closest Transit Stop Walk Time (min)', 'Construction Material',\n",
       "       'Direct Services', 'For Sale Price/Room', 'Fund Name', 'Gas', 'Heating',\n",
       "       'Latitude', 'Longitude', 'Number Of Elevators',\n",
       "       'Number Of Loading Docks', 'Number Of Stories', 'Operational Status',\n",
       "       'Ops Expense', 'Ops Expense Per SF', 'Owner Address',\n",
       "       'Owner City State Zip', 'Owner Contact', 'Owner Phone',\n",
       "       'Parent Company', 'Power', 'Rent Type', 'Rooms', 'Tax Year',\n",
       "       'Taxes Per SF', 'Taxes Total', 'Vacancy %', 'Zoning'],\n",
       "      dtype='object')"
      ]
     },
     "execution_count": 86,
     "metadata": {},
     "output_type": "execute_result"
    }
   ],
   "source": [
    "#change property address tag from \"Property Adress\" to \"Address\" and remove all columns listed (list came from excel workbook)\n",
    "property_combined_df1 = property_combined_df.rename(columns={'Property Address':'Address'})\n",
    "property_combined_df1 = property_combined_df1.drop(['RBA','Total Available Space (SF)','Market Name','Submarket Name','Submarket Cluster','City','State','Zip','County Name','Sale Company Name','Sale Company Contact','For Sale Price','For Sale Status','Last Sale Date','Percent Leased','Parking Ratio','Tenancy','FEMA Map Date','FEMA Map Identifier','FIRM ID','FIRM Panel Number','In SFHA','Floodplain Area','% 1-Bed','% 2-Bed','% 3-Bed','% 4-Bed','% Studios','All-Inclusive','All-Suites','Anchor GLA','Architect Name','Avg Asking/Bed','Avg Asking/SF','Avg Asking/Unit','Avg Concessions %','Avg Effective/SF','Avg Effective/Unit','Avg Rent-Direct (Industrial)','Avg Rent-Direct (Office)','Avg Rent-Direct (Retail)','Avg Rent-Sublet (Industrial)','Avg Rent-Sublet (Office)','Avg Rent-Sublet (Retail)','Avg Unit SF','Brand','Column Spacing','Constr Status','Construction Begin','Continent','Core Factor','Country','Cross Street','Days On Market','Developer Name','Direct Available Space','Direct Vacant Space','Drive Ins','Exp Year','Features','Fema Flood Zone','Flood Risk Area','Four Bedroom Asking Rent/Bed','Four Bedroom Asking Rent/SF','Four Bedroom Asking Rent/Unit','Four Bedroom Avg SF','Four Bedroom Concessions %','Four Bedroom Effective Rent/Bed','Four Bedroom Effective Rent/SF','Four Bedroom Effective Rent/Unit','Four Bedroom Vacancy %','Four Bedroom Vacant Units','Hotel Class','Hotel Grade','Hotel Location Type','Hotel Open Date','Hotel Operator','Land Area (AC)','Land Area (SF)','Leasing Company Address','Leasing Company City State Zip','Leasing Company Fax','Leasing Company Phone','Market Segment','Max Building Contiguous Space','Max Contig Mtg Space','Max Floor Contiguous Space','Month Built','Month Renovated','Mtg Rooms','Number Of 1 Bedrooms Units','Number Of 2 Bedrooms Units','Number Of 3 Bedrooms Units','Number Of 4 Bedrooms Units','Number of Beds','Number Of Cranes','Number Of Parking Spaces','Number Of Studios Units','Number Of Units','Office Space','One Bedroom Asking Rent/Bed','One Bedroom Asking Rent/SF','One Bedroom Asking Rent/Unit','One Bedroom Avg SF','One Bedroom Concessions %','One Bedroom Effective Rent/Bed','One Bedroom Effective Rent/SF','One Bedroom Effective Rent/Unit','One Bedroom Vacancy %','One Bedroom Vacant Units','Operation Type','Owner Name','Parcel Number 1(Min)','Parcel Number 2(Max)','Parking Spaces/Room','Parking Spaces/Unit','Pre-Leasing','Primary Agent Name','Primary Corridors','Property Location','Property Manager Address','Property Manager City State Zip','Property Manager Contact','Property Manager Name','Property Manager Phone','Proposed Land Use','Rail Lines','Recorded Owner Address','Recorded Owner City State Zip','Recorded Owner Contact','Recorded Owner Name','Recorded Owner Phone','Restaurant','Sale Company Address','Sale Company City State Zip','Sale Company Fax','Sale Company Phone','Sales Company','Sales Contact','Sales Contact Phone','Scale','Services','Sewer','Smallest Available Space','Sprinklers','Studio Asking Rent/Bed','Studio Asking Rent/SF','Studio Asking Rent/Unit','Studio Avg SF','Studio Concessions %','Studio Effective Rent/Bed','Studio Effective Rent/SF','Studio Effective Rent/Unit','Studio Vacancy %','Studio Vacant Units','Style','Subcontinent','Sublet Available Space','Sublet Services','Sublet Vacant Space','Three Bedroom Asking Rent/Bed','Three Bedroom Asking Rent/SF','Three Bedroom Asking Rent/Unit','Three Bedroom Avg SF','Three Bedroom Concessions %','Three Bedroom Effective Rent/Bed','Three Bedroom Effective Rent/SF','Three Bedroom Effective Rent/Unit','Three Bedroom Vacancy %','Three Bedroom Vacant Units','Total Buildings','Total Mtg Space','Total New Space (SF)','Total Relet Space (SF)','Total Sublet Space (SF)','Total Vacant Avail Relet Space (SF)','Total Vacant Avail Sublet Space (SF)','Total Vacant Available','True Owner Address','True Owner City State Zip','True Owner Contact','True Owner Name','True Owner Phone','Two Bedroom Asking Rent/Bed','Two Bedroom Asking Rent/SF','Two Bedroom Asking Rent/Unit','Two Bedroom Avg SF','Two Bedroom Concessions %','Two Bedroom Effective Rent/Bed','Two Bedroom Effective Rent/SF','Two Bedroom Effective Rent/Unit','Two Bedroom Vacancy %','Two Bedroom Vacant Units','University','Water'],axis=1)\n",
    "\n",
    "property_combined_df1.columns"
   ]
  },
  {
   "cell_type": "markdown",
   "metadata": {},
   "source": [
    "Gathered Comparable Leasing Data for the Aurora Submarket for the last five years. If this data is not available or the data used in the original export is estimated replace with the most recent data from the Comparable Leasing Data."
   ]
  },
  {
   "cell_type": "code",
   "execution_count": 87,
   "metadata": {},
   "outputs": [
    {
     "name": "stdout",
     "output_type": "stream",
     "text": [
      "                      Address               Property Name  \\\n",
      "0       16700-16798 E 2nd Ave  Norfolk Tech Center Bldg 1   \n",
      "1       16700-16798 E 2nd Ave  Norfolk Tech Center Bldg 1   \n",
      "2             9655 E 25th Ave                         NaN   \n",
      "3             9655 E 25th Ave                         NaN   \n",
      "4            10255 E 25th Ave     Gateway Business Center   \n",
      "...                       ...                         ...   \n",
      "4957  7777 S Country Club Pky     Blackstone Country Club   \n",
      "4958      10110 E Golfers Way                         NaN   \n",
      "4959        13521 E Iliff Ave  Heather Ridge Country Club   \n",
      "4960       26000 E Quincy Ave               Arapahoe Park   \n",
      "4961          810 S Havana St                         NaN   \n",
      "\n",
      "                               PropertyType  Star Rating Energy Star  \\\n",
      "0                                      Flex            2         NaN   \n",
      "1                                      Flex            2         NaN   \n",
      "2                                      Flex            2         NaN   \n",
      "3                                      Flex            2         NaN   \n",
      "4                                      Flex            3         NaN   \n",
      "...                                     ...          ...         ...   \n",
      "4957                 Sports & Entertainment            3         NaN   \n",
      "4958                 Sports & Entertainment            3         NaN   \n",
      "4959                 Sports & Entertainment            3         NaN   \n",
      "4960                 Sports & Entertainment            3         NaN   \n",
      "4961  Sports & Entertainment (Strip Center)            3         NaN   \n",
      "\n",
      "     LEED Certified Building Class Building Status     Rent/SF/Yr  \\\n",
      "0               NaN              B        Existing         $11.50   \n",
      "1               NaN              B        Existing         $11.50   \n",
      "2               NaN              C        Existing         $20.00   \n",
      "3               NaN              C        Existing         $20.00   \n",
      "4               NaN              B        Existing         $25.00   \n",
      "...             ...            ...             ...            ...   \n",
      "4957            NaN              B        Existing  Not Disclosed   \n",
      "4958            NaN              B        Existing  Not Disclosed   \n",
      "4959            NaN              B        Existing  Not Disclosed   \n",
      "4960            NaN              B        Existing  Not Disclosed   \n",
      "4961            NaN              B        Existing  Not Disclosed   \n",
      "\n",
      "                 Secondary Type  ...              Power Rent Type  Rooms  \\\n",
      "0            Light Distribution  ...  2000a/277-480v 3p       NaN    NaN   \n",
      "1            Light Distribution  ...  2000a/277-480v 3p       NaN    NaN   \n",
      "2                           NaN  ...                NaN       NaN    NaN   \n",
      "3                           NaN  ...                NaN       NaN    NaN   \n",
      "4                           NaN  ...          480a/208v       NaN    NaN   \n",
      "...                         ...  ...                ...       ...    ...   \n",
      "4957  Golf Course/Driving Range  ...                NaN       NaN    NaN   \n",
      "4958  Golf Course/Driving Range  ...                NaN       NaN    NaN   \n",
      "4959  Golf Course/Driving Range  ...                NaN       NaN    NaN   \n",
      "4960                 Race Track  ...                NaN       NaN    NaN   \n",
      "4961  Golf Course/Driving Range  ...                NaN       NaN    NaN   \n",
      "\n",
      "      Tax Year  Taxes Per SF  Taxes Total  Vacancy %        Zoning    Term  \\\n",
      "0       2021.0          2.72     68108.02  15.000000           M-1     NaN   \n",
      "1       2021.0          2.72     68108.02  15.000000           M-1     NaN   \n",
      "2       2021.0          2.43     48626.60   7.360000    M1, Aurora    1 yr   \n",
      "3       2021.0          2.43     48626.60   7.360000    M1, Aurora    1 yr   \n",
      "4       2021.0          0.89     37655.70   1.177329         OA-MS   2 yrs   \n",
      "...        ...           ...          ...        ...           ...     ...   \n",
      "4957    2021.0          2.32     83629.72        NaN           NaN     NaN   \n",
      "4958    2021.0          0.00     51934.14        NaN           NaN     NaN   \n",
      "4959       NaN           NaN          NaN        NaN  N/Av, Aurora     NaN   \n",
      "4960    2021.0          0.25    132130.20        NaN           NaN     NaN   \n",
      "4961    2021.0          2.84     68174.02        NaN           NaN  10 yrs   \n",
      "\n",
      "     Lease Term (Years)  \n",
      "0                   NaN  \n",
      "1                   NaN  \n",
      "2                   1.0  \n",
      "3                   1.0  \n",
      "4                   2.0  \n",
      "...                 ...  \n",
      "4957                NaN  \n",
      "4958                NaN  \n",
      "4959                NaN  \n",
      "4960                NaN  \n",
      "4961               10.0  \n",
      "\n",
      "[4962 rows x 59 columns]\n"
     ]
    }
   ],
   "source": [
    "#Load the Lease Comp Dataset\n",
    "lease_comp_df = pd.read_csv(r\"..\\DataSets\\Lease Comps\\LeaseComp5YrDataCombined.csv\")\n",
    "\n",
    "#Filter the original dataset to only include the rows with values missing or containing the estimated marker\n",
    "missing_estimated_rent_data = property_combined_df1[property_combined_df1['Rent/SF/Yr'].isnull() | property_combined_df1['Rent/SF/Yr'].str.contains('Est.')]\n",
    "\n",
    "#find the addresses that are in the filtered df and match them to the leas comp addresses\n",
    "for index, row in missing_estimated_rent_data.iterrows():\n",
    "    address = row['Address']\n",
    "    # Search for matching address in dataset2\n",
    "    matching_row = lease_comp_df.loc[lease_comp_df['Address'] == address]\n",
    "    \n",
    "    #update the Rent/SF/yr in the dataset if this is available\n",
    "    if not matching_row.empty:\n",
    "        # Update Rent/SF/Yr in dataset1 with the value from dataset2\n",
    "        updated_value = matching_row['Rent/SF/Yr'].values[0]\n",
    "        property_combined_df1.at[index, 'Rent/SF/Yr'] = updated_value\n",
    "\n",
    "#Filter the original dataset to only include the rows with direct services (lease type) values missing\n",
    "missing_lease_type_data = property_combined_df1[property_combined_df1['Direct Services'].isnull()]\n",
    "\n",
    "#find the addresses that are in the filtered df and match them to the leas comp addresses\n",
    "for index, row in missing_lease_type_data.iterrows():\n",
    "    address = row['Address']\n",
    "    # Search for matching address in dataset2\n",
    "    matching_row = lease_comp_df.loc[lease_comp_df['Address'] == address]\n",
    "    \n",
    "    #update the Rent/SF/yr in the dataset if this is available\n",
    "    if not matching_row.empty:\n",
    "        # Update Rent/SF/Yr in dataset1 with the value from dataset2\n",
    "        updated_value = matching_row['Services'].values[0]\n",
    "        property_combined_df1.at[index, 'Direct Services'] = updated_value\n",
    "\n",
    "\n",
    "#Update the Values to change from their Acronym to the Full name (ie. NNN = Triple Net)\n",
    "replace_dict = {\n",
    "    'NNN': 'Triple Net',\n",
    "    'FS': 'Full Service Gross',\n",
    "    '+Elec': 'Plus Electric',\n",
    "    'MG': 'Modified Gross',\n",
    "    'N': 'Triple Net'\n",
    "}\n",
    "property_combined_df1['Direct Services'] = property_combined_df1['Direct Services'].replace(replace_dict)\n",
    "\n",
    "# add lease term data to the property data.\n",
    "lease_term_df = lease_comp_df[['Address','Term']]\n",
    "property_combined_df1 = pd.merge(property_combined_df1, lease_term_df, how = 'left', on = 'Address')\n",
    "\n",
    "# Assuming you already have property_combined_df1 and lease_term_df\n",
    "\n",
    "# Function to convert lease term to years\n",
    "def convert_to_years(term):\n",
    "    if pd.notna(term):\n",
    "        # Extract years and months using regular expression\n",
    "        result = re.match(r'(\\d+)\\s*yrs?\\s*(\\d+)\\s*mos?', term, re.IGNORECASE)\n",
    "        if result:\n",
    "            years = int(result.group(1))\n",
    "            months = int(result.group(2))\n",
    "        else:\n",
    "            # Fallback for cases like \"1 yr\" or \"1 yr 6 mos\"\n",
    "            result = re.match(r'(\\d+)\\s*yrs?', term, re.IGNORECASE)\n",
    "            years = int(result.group(1)) if result else 0\n",
    "            months = 0\n",
    "\n",
    "        # Handle the case when years is only = 1 (singular form)\n",
    "        if years == 1 and 'yr' in term.lower():\n",
    "            months = 0\n",
    "\n",
    "        # Convert total months to years and round to the nearest year\n",
    "        total_months = years * 12 + months\n",
    "        return round(total_months / 12) if total_months > 0 else None\n",
    "    else:\n",
    "        return None\n",
    "\n",
    "# Apply the custom function to the \"Term\" column\n",
    "property_combined_df1['Lease Term (Years)'] = property_combined_df1['Term'].apply(convert_to_years)\n",
    "\n",
    "# Display the updated DataFrame\n",
    "print(property_combined_df1)\n"
   ]
  },
  {
   "cell_type": "markdown",
   "metadata": {},
   "source": [
    "Gathered Comparable Sale Data for the Aurora Submarket for the last five years. If data is not available or the data used in the original export is estimated replace with the most recent data from the Comp Sale Data."
   ]
  },
  {
   "cell_type": "code",
   "execution_count": 88,
   "metadata": {},
   "outputs": [],
   "source": [
    "#Load the Lease Comp Dataset\n",
    "sales_comp_df = pd.read_excel(r\"..\\DataSets\\Sales Comp\\5 Year Sales Comp.xlsx\")\n",
    "\n",
    "#Filter the original dataset to only include the rows with values missing\n",
    "missing_sale_price_data = property_combined_df1[property_combined_df1['Last Sale Price'].isnull()]\n",
    "\n",
    "#find the addresses that are in the filtered df and match them to the sales comp addresses\n",
    "for index, row in missing_sale_price_data.iterrows():\n",
    "    address = row['Address']\n",
    "    # Search for matching address in dataset2\n",
    "    matching_row = sales_comp_df.loc[sales_comp_df['Property Address'] == address]\n",
    "    \n",
    "    #update the Sales Price in the dataset if this is available\n",
    "    if not matching_row.empty:\n",
    "        # Update Sale Price in dataset1 with the value from dataset2\n",
    "        updated_value = matching_row['Sale Price'].values[0]\n",
    "        property_combined_df1.at[index, 'Last Sale Price'] = updated_value\n",
    "\n",
    "#Filter the original dataset to only include the rows with Cap Rate values missing\n",
    "missing_cap_rate_data = property_combined_df1[property_combined_df1['Cap Rate'].isnull()]\n",
    "\n",
    "#find the addresses that are in the filtered df and match them to the sales comp addresses\n",
    "for index, row in missing_cap_rate_data.iterrows():\n",
    "    address = row['Address']\n",
    "    # Search for matching address in dataset2\n",
    "    matching_row = sales_comp_df.loc[sales_comp_df['Property Address'] == address]\n",
    "    \n",
    "    #update the Cap Rate in the dataset if this is available\n",
    "    if not matching_row.empty:\n",
    "        # Update Cap Rate in dataset1 with the value from dataset2\n",
    "        updated_value = matching_row['Actual Cap Rate'].values[0]\n",
    "        property_combined_df1.at[index, 'Cap Rate'] = updated_value\n"
   ]
  },
  {
   "cell_type": "markdown",
   "metadata": {},
   "source": [
    "Some data in CoStar comes in formats not usable (ie. Expenses/Sq-Ft $8.09-$10.86 ). Or with parenthese. Extract each number from the range and average them out. If not a range put the value that is present as a float.\n"
   ]
  },
  {
   "cell_type": "code",
   "execution_count": null,
   "metadata": {},
   "outputs": [],
   "source": [
    "#extract numbers from building operating expenses and building tax expenses\n",
    "property_combined_df1['Building Operating Expenses'] = property_combined_df1['Building Operating Expenses'].str.extract('.*(\\$[0-9,.]+)')\n",
    "property_combined_df1['Building Tax Expenses'] = property_combined_df1['Building Tax Expenses'].str.extract('(\\$[0-9,.]+)')\n",
    "\n",
    "# Function to extract floats from a string\n",
    "def extract_floats(text):\n",
    "    # Extract numbers using regular expression\n",
    "    text = str(text)\n",
    "    matches = re.findall(r'(\\d+\\.\\d+)', text)\n",
    "    # Convert matched strings to float\n",
    "    floats = [float(match) for match in matches]\n",
    "    return floats\n",
    "\n",
    "# Extract floats and calculate average or use single value\n",
    "def calculate_average_or_single(floats):\n",
    "    if len(floats) == 1:\n",
    "        return floats[0]\n",
    "    elif len(floats) > 1:\n",
    "        return sum(floats) / len(floats)\n",
    "    else:\n",
    "        return 0\n",
    "    \n",
    "    # Remove text within parentheses and the parentheses\n",
    "property_combined_df1['PropertyType'] = property_combined_df1['PropertyType'].str.replace(r'\\s*\\(.*\\)', '', regex=True)\n",
    "\n",
    "\n",
    "# Extract floats and calculate average or use single value. Original Rent/SF/Yr came in the format of a single float value or two different float values for a range. We are utilzing the average of the two if available.\n",
    "property_combined_df1['Rent/SF/Yr'] = property_combined_df1['Rent/SF/Yr'].apply(extract_floats)\n",
    "property_combined_df1['Rent/SF/Yr'] = property_combined_df1['Rent/SF/Yr'].apply(calculate_average_or_single)\n",
    "\n"
   ]
  },
  {
   "cell_type": "markdown",
   "metadata": {},
   "source": [
    "Define folder path for property data and combine the Tenant DataSets "
   ]
  },
  {
   "cell_type": "code",
   "execution_count": null,
   "metadata": {},
   "outputs": [],
   "source": [
    "\n",
    "#path to costar tenant data files\n",
    "cs_tenant_data_dir =  r\"..\\DataSets\\Raw CoStar Data\\Raw Tenant Data\"\n",
    "#get all the files in property and tenant data files\n",
    "tenant_data_xlsx_files = glob.glob(os.path.join(cs_tenant_data_dir, '*.xlsx'))\n",
    "\n",
    "#loop through the files and read them in with pandas and remove unwanted data columns\n",
    "tenant_dataframes = [] #a list to hold all the indiviudal pandas DataFrames\n",
    "for xlsxfile in tenant_data_xlsx_files:\n",
    "    tenantdf = pd.read_excel(xlsxfile)\n",
    "    tenantdf = tenantdf.drop(['City','State','Country','Floor','Space Use','Moved In','Commencement','Rent Type','SF/Employee','Green Rating','Building Name','Building Park','Center Name','Center Type','Market','Submarket','Location Type','Landlord','Landlord Representative','Tenant Representative','Best Tenant Contact','Best Tenant Phone','Future Move','Future Move Type','Signed','Suite','Zip','Time in Building','NAICS','SIC'],axis=1)\n",
    "    tenant_dataframes.append(tenantdf)\n",
    "\n",
    "\n",
    "#concatenate all together\n",
    "tenant_combined_df = pd.concat(tenant_dataframes, ignore_index=True)\n",
    "\n"
   ]
  },
  {
   "cell_type": "markdown",
   "metadata": {},
   "source": [
    "Print out both data sets seperately to CSV files"
   ]
  },
  {
   "cell_type": "code",
   "execution_count": null,
   "metadata": {},
   "outputs": [],
   "source": [
    "# #print out the new csv file\n",
    "property_combined_df1.to_csv('PropertyDataCombined.csv')\n",
    "tenant_combined_df.to_csv('TenantDataCombined.csv')"
   ]
  },
  {
   "cell_type": "markdown",
   "metadata": {},
   "source": [
    "Add Disadvantaged Status and Colorado BPS Touchstone data to the property data"
   ]
  },
  {
   "cell_type": "code",
   "execution_count": null,
   "metadata": {},
   "outputs": [],
   "source": [
    "#path to costar tenant data files\n",
    "disadvantaged_status_df = pd.read_csv(r\"..\\DataSets\\Disadvantage Status of Buildings\\DisadvantagedStatusOfBuildingsAurora.csv\")\n",
    "co_touchstone_df = pd.read_csv(r\"..\\DataSets\\Colorado BPS Touchstone Data\\touchstone-aurora.csv\")\n",
    "\n",
    "#Capitalize each word in the address column and remove all the content after the comma to match index of other data\n",
    "co_touchstone_df[\"address\"] = co_touchstone_df[\"address\"].str.split(',').str[0].str.title()\n",
    "co_touchstone_df.rename(columns = {\"address\":\"Address\"},inplace = True)\n",
    "\n",
    "#Remove the NREL_ID column this was used to get the Disadvantaged Status\n",
    "disadvantaged_status_df.pop(\"NREL_ID\")\n",
    "\n",
    "#merge these dataframes with the property data frames\n",
    "property_touchstone_combined_df = pd.merge(property_combined_df1,co_touchstone_df,on = \"Address\", how = \"left\")\n",
    "property_combined_final_df = pd.merge(property_touchstone_combined_df,disadvantaged_status_df, on = \"Address\", how = \"left\")\n"
   ]
  },
  {
   "cell_type": "markdown",
   "metadata": {},
   "source": []
  },
  {
   "cell_type": "markdown",
   "metadata": {},
   "source": [
    "Combine all datasets together with tenant datasets indexed to each property address"
   ]
  },
  {
   "cell_type": "code",
   "execution_count": null,
   "metadata": {},
   "outputs": [],
   "source": [
    "#create a cumulitive count of the addresses in the tenant data\n",
    "tenant_address_cumcount = tenant_combined_df.groupby(['Address']).cumcount()\n",
    "\n",
    "#create new tenant df indexed by adress and adjusted to have each tenants data in a unique column\n",
    "tenant_combined_df1 = tenant_combined_df.set_index([\"Address\", tenant_address_cumcount]).unstack().sort_index(level=1, axis=1)\n",
    "tenant_combined_df1.columns = [f'{x}{y}' for x, y in tenant_combined_df1.columns]\n",
    "tenant_combined_df1 = tenant_combined_df1.reset_index()\n",
    "\n",
    "#create new tenant csv file that has single rows for each address\n",
    "tenant_combined_df1.to_csv('TenantDataCombined1.csv')\n",
    "\n",
    "#merge tenant_combined_df1 and property_combined_df\n",
    "property_tenant_combined_df = pd.merge(property_combined_final_df,tenant_combined_df1, on='Address', how='left')\n",
    "property_combined_final_df.to_csv('PropertyDataCombinedFinal.csv')"
   ]
  },
  {
   "cell_type": "markdown",
   "metadata": {},
   "source": [
    "Print Merged Datasets to a CSV"
   ]
  },
  {
   "cell_type": "code",
   "execution_count": null,
   "metadata": {},
   "outputs": [],
   "source": [
    "#creat new combined data csv file\n",
    "property_tenant_combined_df.to_csv('PropertyAndTenantDataCombined.csv')"
   ]
  }
 ],
 "metadata": {
  "kernelspec": {
   "display_name": "BPSEquityPilot",
   "language": "python",
   "name": "python3"
  },
  "language_info": {
   "codemirror_mode": {
    "name": "ipython",
    "version": 3
   },
   "file_extension": ".py",
   "mimetype": "text/x-python",
   "name": "python",
   "nbconvert_exporter": "python",
   "pygments_lexer": "ipython3",
   "version": "3.9.17"
  },
  "orig_nbformat": 4
 },
 "nbformat": 4,
 "nbformat_minor": 2
}
